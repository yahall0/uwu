{
 "cells": [
  {
   "cell_type": "code",
   "execution_count": 1,
   "source": [
    "\"\"\"RGB to HSI\"\"\""
   ],
   "outputs": [
    {
     "output_type": "execute_result",
     "data": {
      "text/plain": [
       "'RGB to HSI'"
      ]
     },
     "metadata": {},
     "execution_count": 1
    }
   ],
   "metadata": {}
  },
  {
   "cell_type": "code",
   "execution_count": 2,
   "source": [
    "import numpy as np\r\n",
    "\r\n",
    "def rgb_to_hsi(r, g, b):\r\n",
    "    r /= 255.0\r\n",
    "    g /= 255.0\r\n",
    "    b /= 255.0\r\n",
    "\r\n",
    "    i = (r + g + b) / 3.0\r\n",
    "\r\n",
    "    min_val = np.min([r, g, b])\r\n",
    "    if i == 0:\r\n",
    "        s = 0\r\n",
    "    else:\r\n",
    "        s = 1 - (3 * min_val)\r\n",
    "\r\n",
    "    sqrt_val = np.sqrt(((r - g) ** 2) + ((r - b) * (g - b)))\r\n",
    "    if sqrt_val == 0:\r\n",
    "        h = 0\r\n",
    "    else:\r\n",
    "        h = np.arccos((0.5 * ((r - g) + (r - b))) / sqrt_val)\r\n",
    "\r\n",
    "    if b > g:\r\n",
    "        h = (2 * np.pi) - h\r\n",
    "\r\n",
    "    return h, s, i\r\n",
    "\r\n",
    "print(rgb_to_hsi(23, 54, 14))"
   ],
   "outputs": [
    {
     "output_type": "stream",
     "name": "stdout",
     "text": [
      "(1.8782685910297146, 0.8352941176470589, 0.11895424836601305)\n"
     ]
    }
   ],
   "metadata": {}
  },
  {
   "cell_type": "code",
   "execution_count": null,
   "source": [
    "def rgb_to_cmy(r, g, b):\r\n",
    "    r /= 255.0\r\n",
    "    g /= 255.0\r\n",
    "    b /= 255.0\r\n",
    "\r\n",
    "    c = 1 - r\r\n",
    "    m = 1 - g\r\n",
    "    y = 1 - b\r\n",
    "\r\n",
    "    return c, m, y"
   ],
   "outputs": [],
   "metadata": {}
  },
  {
   "cell_type": "code",
   "execution_count": null,
   "source": [
    "import cv2\r\n",
    "import matplotlib.pyplot as plt"
   ],
   "outputs": [],
   "metadata": {}
  },
  {
   "cell_type": "code",
   "execution_count": null,
   "source": [],
   "outputs": [],
   "metadata": {}
  }
 ],
 "metadata": {
  "orig_nbformat": 4,
  "language_info": {
   "name": "python",
   "version": "3.10.6",
   "mimetype": "text/x-python",
   "codemirror_mode": {
    "name": "ipython",
    "version": 3
   },
   "pygments_lexer": "ipython3",
   "nbconvert_exporter": "python",
   "file_extension": ".py"
  },
  "kernelspec": {
   "name": "python3",
   "display_name": "Python 3.10.6 64-bit"
  },
  "interpreter": {
   "hash": "2be5faf79681da6f2a61fdfdd5405d65d042280f7fba6178067603e3a2925119"
  }
 },
 "nbformat": 4,
 "nbformat_minor": 2
}